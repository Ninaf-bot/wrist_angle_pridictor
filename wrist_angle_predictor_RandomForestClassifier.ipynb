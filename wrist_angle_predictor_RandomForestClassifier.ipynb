{
  "nbformat": 4,
  "nbformat_minor": 0,
  "metadata": {
    "colab": {
      "name": "wrist_angle_predictor_RandomForestClassifier.ipynb",
      "version": "0.3.2",
      "provenance": [],
      "include_colab_link": true
    },
    "kernelspec": {
      "name": "python3",
      "display_name": "Python 3"
    }
  },
  "cells": [
    {
      "cell_type": "markdown",
      "metadata": {
        "id": "view-in-github",
        "colab_type": "text"
      },
      "source": [
        "<a href=\"https://colab.research.google.com/github/Ninaf-bot/wrist_angle_pridictor/blob/master/wrist_angle_predictor_RandomForestClassifier.ipynb\" target=\"_parent\"><img src=\"https://colab.research.google.com/assets/colab-badge.svg\" alt=\"Open In Colab\"/></a>"
      ]
    },
    {
      "cell_type": "code",
      "metadata": {
        "id": "IPBfqds2tITF",
        "colab_type": "code",
        "outputId": "b50fc811-3e63-4407-8514-a7208955f18e",
        "colab": {
          "base_uri": "https://localhost:8080/",
          "height": 51
        }
      },
      "source": [
        "import pandas as pd\n",
        "#import quandl,math\n",
        "import matplotlib.pyplot as plt\n",
        "import numpy as np\n",
        "from sklearn import preprocessing,  svm\n",
        "from sklearn.cluster import KMeans\n",
        "from sklearn.model_selection import cross_validate\n",
        "from sklearn.model_selection import train_test_split\n",
        "from sklearn.linear_model import LinearRegression\n",
        "import pywt\n",
        "from sklearn.ensemble import RandomForestClassifier\n",
        "\n",
        "d_s=pd.read_csv('/content/new dataset.csv')\n",
        "d_sin=d_s.drop(['output'],1)\n",
        "d_sin=preprocessing.scale(d_sin)\n",
        "\n",
        "d_out=d_s['output']\n",
        "\n",
        "x=d_sin[0:40000]\n",
        "y=d_out[0:40000]\n",
        "y=np.array(y)\n",
        "#t=d_s['O']==0\n",
        "#data0=d_s[t]\n",
        "#plt.plot(data0['A'],color='b')\n",
        "\n",
        "#t=d_s['O']==30\n",
        "#data30=d_s[t]\n",
        "#plt.plot(data30['A'],color='r')\n",
        "\n",
        "#t=d_s['O']==60\n",
        "#data60=d_s[t]\n",
        "#plt.plot(data60['A'],color='g')\n",
        "\n",
        "\n",
        "#t=d_s['O']==90\n",
        "#data90=d_s[t]\n",
        "#plt.plot(data90['A'],color='y')\n",
        "\n",
        "\n",
        "#t=d_s['O']==120\n",
        "#data120=d_s[t]\n",
        "#plt.plot(data120['A'],color='m')\n",
        "\n",
        "\n",
        "#t=d_s['O']==150\n",
        "#data150=d_s[t]\n",
        "#plt.plot(data150['A'],color='c')\n",
        "#plt.show()\n",
        "\n",
        "#wp = pywt.WaveletPacket(data=d_s['F'], wavelet='db1', mode='symmetric',maxlevel=6)\n",
        "#plt.plot(wp['aaaaaa'].data)\n",
        "#plt.show()\n",
        "\n",
        "#x=np.array(din)\n",
        "#x=d_s[['F','G','H']]\n",
        "#x=np.array(d_s.drop(['O'],1))\n",
        "\n",
        "y=np.array(y)\n",
        "\n",
        "x_train,x_test,y_train,y_test=train_test_split(x,y,test_size=0.2)\n",
        "clt=RandomForestClassifier(n_estimators=200)\n",
        "clt.fit(x_train,y_train)\n",
        "clt.score(x_test,y_test)\n",
        "accuracy=clt.score(x_test,y_test)\n",
        "print(\"Accuracy:\",accuracy)\n",
        "\n",
        "\n",
        "#test=d_sin[40000:]\n",
        "#y_test=d_out[40000:]\n",
        "test=d_sin[40000:50000]\n",
        "y_test=d_out[40000:50000]\n",
        "\n",
        "y_pred=clt.predict(test)\n",
        "from sklearn import metrics\n",
        "\n",
        "print(\"testing Accuracy:\",metrics.accuracy_score(y_test, y_pred))"
      ],
      "execution_count": 47,
      "outputs": [
        {
          "output_type": "stream",
          "text": [
            "Accuracy: 0.999875\n",
            "testing Accuracy: 0.4019\n"
          ],
          "name": "stdout"
        }
      ]
    }
  ]
}